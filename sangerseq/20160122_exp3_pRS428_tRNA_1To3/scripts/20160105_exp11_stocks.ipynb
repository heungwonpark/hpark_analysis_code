{
 "cells": [
  {
   "cell_type": "code",
   "execution_count": 8,
   "metadata": {
    "collapsed": true
   },
   "outputs": [],
   "source": [
    "# globals\n",
    "from IPython.core.display import display, HTML # for pretty HTML printing\n",
    "from Bio.Seq import Seq # for sequence manipulation\n",
    "import re # regular expression library for string parsing and searching"
   ]
  },
  {
   "cell_type": "code",
   "execution_count": 17,
   "metadata": {
    "collapsed": true
   },
   "outputs": [],
   "source": [
    "# paste region being sequenced\n",
    "CAA_reference = 'GGGCCTCTTCGCTATTACGCCAGCTGGCGAAAGGGGGATGTGCTGCAAGGCGATTAAGTTGGGTAACGCCAGGGTTTTCCCAGTCACGACGTTGTAAAACGACGGCCAGTGAGCGCGCGTAATACGACTCACTATAGGGCGAATTGGGTACCGGGCCCCCCCTCGAGGTCGACGGTATCGATAAGCTTGTTAGAACCAAGGGGCCCAAGCTTTGTAAGTGCCAGAAAGCCACATGAAGCTGGAGATTGGAGATTTATGGATTTATCGCCAGCACACAGCTTTGAAAAAATACAGAAAATATAAGGAAGTATAGATATAAAGAACTCAGCGACACAGTAGTACGTAAAATATAAAAAGGTTACTGAAAGGAGTGAATTCCGCCATAGTATAGGTTGAGTATACGCAAATAAACGTTGGAAATTGGCTAGAATGTTAAAAAAAACATTCATTAAAAGGTTCTTTTCGTATAACTTTTACAACAAATAAGTGGTTGTTTGGCCGAGCGGTCTAAGGCGCCTGATTCAAGAAAATATCTTGACTGCAGTTAACTGTAGGAATACTCAGGTATCGTAAGATGCAAGAGTTCGAATCTCTTAGCAACCATTATTTTTGCCTTCCGAAAATTTTGAAGCTACATATTAGCACTCTTCTTCAGATGTCAGACAACGTGCAGCATCTTTTTTTCCTACCATTGAATATATATATAGTAATTACGGCAACCGTTTATATAAAAATTCAAAAGATTAAATATTTTAATATATTAGTGTCTGGTTTAAAAGTCATACTTCTCTAATCACTACCGTGAAAAAAGCAGTTCCATAAGTGTTCATTACTGACTTCTTGGTCTACCACGCTTATCTCAAACTTCGCATCATCGCTTTCCTCATTATCCGTTTCATCTTGGGATCCACTAGTTCTAGAGCGGCCGCCACCGCGGTGGAGCTCCAGCTTTTGTTCCCTTTAGTGAGGGTTAATTGCGCGCTTGGCGTAATCATGGTCATAGC'\n",
    "GAG_reference = 'TCCTTCAATCTCATTTTTCGTGTTTTATTCCTTTCAAGAGATGGTTCGGACACACCTCATTTATCAATAGAGATGCCTCAGATATGAAAATACTTGTGGATTTTGTAAAGATTCAACCTGTATGGTCTGCGTGGATTGCCACTTATAGGGCTTTTCAAATTAGTATTTTAAAGGAGTTAGATCGGTTTCAAAAGGTCATGCTCCGGAGTAATTGACTTGATTTTGCAAAGCTTCACTTAAATGGCGTATCTTCCTTTTATAAATTGCGTTTGCTTTATTCCCTTACCCAACAGATGAATTGGTACTCTGGCCGAGTGGTCTAAGGCGTCAGGTCGAGGTCCTGATCTCTTCGGAGGCGCGGGTTCAAACCCCGCGGGTATCAATATTTTTTTGAATCTACGCACTTCAATAAGAATTAGGCTGTTAGGATAGCATTTTTTTTCTATGTACCAAAAGTATTCATACGTGGCTCCTTGTTACCCCACAAAACTTTTTTAGACTTGAGTGAGCTGAAAGACACCTAAAAGGAAGGACATTCCATTGATGGCTATT'\n",
    "TAG_reference = 'GCCTTTCCTTTACAGCTCCAAGATATTATATATATTTTTGACAAGGTAATCAATTGCCCCACAAATCTTCCATATAAAAACCTATATATGCTATTAACCGAATGGCAATTCCCTCTATCTCATATCTCACCTCTACAGTAATCCTTCCGTGGTATCTGGTCTATAGAAATGGGTACTGTTTCATTTAAACGTGTTATCACTTGATCCAATGGTTACCATCTGACTTTGGCATCAATCCCTTCTTAAAAAGTAACCAATCAATGATATGCGATTGTTTATGAAGTCCATTCAACAAACAATGGGAGTTTGGCCGAGTGGTTTAAGGCGTCAGATTTAGGTGGATTTAACCTCTAAAATCTCTGATATCTTCGGATGCAAGGGTTCGAATCCCTTAGCTCTCATTATTTTTTGTATTTTTTTTTTTCACTTCCCATCTTTCCAAGAATCTTAGGAGAGGTGCCGCAGTACTTTTTTGGACTGAGCAAGAAGTATCGCAAAGCATGGAAAAGTAAGAAGGGTATAGCAAAAGTCTTTTCACAATAAGAGGATATTTTGCAGGCAAATTTCTGAAGACCACATAATATCGTCTTCTTGGCGCAACTAAGACGCAGAGAAATGCTTGTTTTCAAAAGGGGTATTCACGTAGTACCTAAACTACCAAATTCTAAGGCCCTACTGCAAAATGGAGTGCCTAATATACT'\n",
    "!echo '>CAA_reference' > ../annotations/CAA_reference.seq\n",
    "!echo $CAA_reference >> ../annotations/CAA_reference.seq # write sequence to file\n",
    "!echo '>GAG_reference' > ../annotations/GAG_reference.seq\n",
    "!echo $GAG_reference >> ../annotations/GAG_reference.seq # write sequence to file\n",
    "!echo '>TAG_reference' > ../annotations/TAG_reference.seq\n",
    "!echo $TAG_reference >> ../annotations/TAG_reference.seq # write sequence to file"
   ]
  },
  {
   "cell_type": "markdown",
   "metadata": {},
   "source": [
    "### Checking CAA sequence"
   ]
  },
  {
   "cell_type": "code",
   "execution_count": 10,
   "metadata": {
    "collapsed": false,
    "scrolled": false
   },
   "outputs": [
    {
     "data": {
      "text/html": [
       "<HTML>\n",
       "<BODY BGCOLOR=\"#FFEEE0\">\n",
       "<PRE>\n",
       "<SPAN STYLE=\"background-color:#FFEEE0\">CAA_reference              <SPAN STYLE=\"background-color:#FFFFFF\"></SPAN><SPAN STYLE=\"background-color:#FFFFFF\">------------------------------------------------------------\n",
       "<SPAN STYLE=\"background-color:#FFEEE0\">pHPSC1_1-M13R_C05.ab1      <SPAN STYLE=\"background-color:#FFFFFF\"></SPAN><SPAN STYLE=\"background-color:#FFFFFF\">nnnnnaggnaagaaagnnaangngcnggcgntnggcgcnnnaagtgtagngtcncgntgn\n",
       "\n",
       "<SPAN STYLE=\"background-color:#FFEEE0\">CAA_reference              <SPAN STYLE=\"background-color:#FFFFFF\"></SPAN><SPAN STYLE=\"background-color:#FFFFFF\">------------------------------------------------------------\n",
       "<SPAN STYLE=\"background-color:#FFEEE0\">pHPSC1_1-M13R_C05.ab1      <SPAN STYLE=\"background-color:#FFFFFF\"></SPAN><SPAN STYLE=\"background-color:#FFFFFF\">ncgnnnnccacncccncncgcttaatgcgncgctacagggngcgnccattcgccattcag\n",
       "\n",
       "<SPAN STYLE=\"background-color:#FFEEE0\">CAA_reference              <SPAN STYLE=\"background-color:#FFFFFF\"></SPAN><SPAN STYLE=\"background-color:#FFFFFF\">---------------------------------</SPAN><SPAN STYLE=\"background-color:#77FFFF\">GGGCCTCTTCGCTATTACGCCAGCTGG\n",
       "<SPAN STYLE=\"background-color:#FFEEE0\">pHPSC1_1-M13R_C05.ab1      <SPAN STYLE=\"background-color:#FFFFFF\"></SPAN><SPAN STYLE=\"background-color:#FFFFFF\">gctgcgcaactgttgggaangggcgatcggtgc</SPAN><SPAN STYLE=\"background-color:#77FFFF\">GGGCCTCTTCGCTATTACGCCAGCTGG\n",
       "\n",
       "<SPAN STYLE=\"background-color:#FFEEE0\">CAA_reference              <SPAN STYLE=\"background-color:#FFFFFF\"></SPAN><SPAN STYLE=\"background-color:#77FFFF\">CGAAAGGGGGATGTGCTGCAAGGCGATTAAGTTGGGTAACGCCAGGGTTTTCCCAGTCAC\n",
       "<SPAN STYLE=\"background-color:#FFEEE0\">pHPSC1_1-M13R_C05.ab1      <SPAN STYLE=\"background-color:#FFFFFF\"></SPAN><SPAN STYLE=\"background-color:#77FFFF\">CGAAAGGGGGATGTGCTGCAAGGCGATTAAGTTGGGTAACGCCAGGGTTTTCCCAGTCAC\n",
       "\n",
       "<SPAN STYLE=\"background-color:#FFEEE0\">CAA_reference              <SPAN STYLE=\"background-color:#FFFFFF\"></SPAN><SPAN STYLE=\"background-color:#77FFFF\">GACGTTGTAAAACGACGGCCAGTGAGCGCGCGTAATACGACTCACTATAGGGCGAATTGG\n",
       "<SPAN STYLE=\"background-color:#FFEEE0\">pHPSC1_1-M13R_C05.ab1      <SPAN STYLE=\"background-color:#FFFFFF\"></SPAN><SPAN STYLE=\"background-color:#77FFFF\">GACGTTGTAAAACGACGGCCAGTGAGCGCGCGTAATACGACTCACTATAGGGCGAATTGG\n",
       "\n",
       "<SPAN STYLE=\"background-color:#FFEEE0\">CAA_reference              <SPAN STYLE=\"background-color:#FFFFFF\"></SPAN><SPAN STYLE=\"background-color:#77FFFF\">GTACCGGGCCCCCCCTCGAGGTCGACGGTATCGATAAGCTTGTTAGAACCAAGGGGCCCA\n",
       "<SPAN STYLE=\"background-color:#FFEEE0\">pHPSC1_1-M13R_C05.ab1      <SPAN STYLE=\"background-color:#FFFFFF\"></SPAN><SPAN STYLE=\"background-color:#77FFFF\">GTACCGGGCCCCCCCTCGAGGTCGACGGTATCGATAAGCTTGTTAGAACCAAGGGGCCCA\n",
       "\n",
       "<SPAN STYLE=\"background-color:#FFEEE0\">CAA_reference              <SPAN STYLE=\"background-color:#FFFFFF\"></SPAN><SPAN STYLE=\"background-color:#77FFFF\">AGCTTTGTAAGTGCCAGAAAGCCACATGAAGCTGGAGATTGGAGATTTATGGATTTATCG\n",
       "<SPAN STYLE=\"background-color:#FFEEE0\">pHPSC1_1-M13R_C05.ab1      <SPAN STYLE=\"background-color:#FFFFFF\"></SPAN><SPAN STYLE=\"background-color:#77FFFF\">AGCTTTGTAAGTGCCAGAAAGCCACATGAAGCTGGAGATTGGAGATTTATGGATTTATCG\n",
       "\n",
       "<SPAN STYLE=\"background-color:#FFEEE0\">CAA_reference              <SPAN STYLE=\"background-color:#FFFFFF\"></SPAN><SPAN STYLE=\"background-color:#77FFFF\">CCAGCACACAGCTTTGAAAAAATACAGAAAATATAAGGAAGTATAGATATAAAGAACTCA\n",
       "<SPAN STYLE=\"background-color:#FFEEE0\">pHPSC1_1-M13R_C05.ab1      <SPAN STYLE=\"background-color:#FFFFFF\"></SPAN><SPAN STYLE=\"background-color:#77FFFF\">CCAGCACACAGCTTTGAAAAAATACAGAAAATATAAGGAAGTATAGATATAAAGAACTCA\n",
       "\n",
       "<SPAN STYLE=\"background-color:#FFEEE0\">CAA_reference              <SPAN STYLE=\"background-color:#FFFFFF\"></SPAN><SPAN STYLE=\"background-color:#77FFFF\">GCGACACAGTAGTACGTAAAATATAAAAAGGTTACTGAAAGGAGTGAATTCCGCCATAGT\n",
       "<SPAN STYLE=\"background-color:#FFEEE0\">pHPSC1_1-M13R_C05.ab1      <SPAN STYLE=\"background-color:#FFFFFF\"></SPAN><SPAN STYLE=\"background-color:#77FFFF\">GCGACACAGTAGTACGTAAAATATAAAAAGGTTACTGAAAGGAGTGAATTCCGCCATAGT\n",
       "\n",
       "<SPAN STYLE=\"background-color:#FFEEE0\">CAA_reference              <SPAN STYLE=\"background-color:#FFFFFF\"></SPAN><SPAN STYLE=\"background-color:#77FFFF\">ATAGGTTGAGTATACGCAAATAAACGTTGGAAATTGGCTAGAATGTTAAAAAAAACATTC\n",
       "<SPAN STYLE=\"background-color:#FFEEE0\">pHPSC1_1-M13R_C05.ab1      <SPAN STYLE=\"background-color:#FFFFFF\"></SPAN><SPAN STYLE=\"background-color:#77FFFF\">ATAGGTTGAGTATACGCAAATAAACGTTGGAAATTGGCTAGAATGTTAAAAAAAACATTC\n",
       "\n",
       "<SPAN STYLE=\"background-color:#FFEEE0\">CAA_reference              <SPAN STYLE=\"background-color:#FFFFFF\"></SPAN><SPAN STYLE=\"background-color:#77FFFF\">ATTAAAAGGTTCTTTTCGTATAACTTTTACAACAAATAAGTGGTTGTTTGGCCGAGCGGT\n",
       "<SPAN STYLE=\"background-color:#FFEEE0\">pHPSC1_1-M13R_C05.ab1      <SPAN STYLE=\"background-color:#FFFFFF\"></SPAN><SPAN STYLE=\"background-color:#77FFFF\">ATTAAAAGGTTCTTTTCGTATAACTTTTACAACAAATAAGTGGTTGTTTGGCCGAGCGGT\n",
       "\n",
       "<SPAN STYLE=\"background-color:#FFEEE0\">CAA_reference              <SPAN STYLE=\"background-color:#FFFFFF\"></SPAN><SPAN STYLE=\"background-color:#77FFFF\">CTAAGGCGCCTGATTCAAGAAAATATCTTGACTGCAGTTAACTGTAGGAATACTCAGGTA\n",
       "<SPAN STYLE=\"background-color:#FFEEE0\">pHPSC1_1-M13R_C05.ab1      <SPAN STYLE=\"background-color:#FFFFFF\"></SPAN><SPAN STYLE=\"background-color:#77FFFF\">CTAAGGCGCCTGATTCAAGAAAATATCTTGACTGCAGTTAACTGTAGGAATACTCAGGTA\n",
       "\n",
       "<SPAN STYLE=\"background-color:#FFEEE0\">CAA_reference              <SPAN STYLE=\"background-color:#FFFFFF\"></SPAN><SPAN STYLE=\"background-color:#77FFFF\">TCGTAAGATGCAAGAGTTCGAATCTCTTAGCAACCATTATTTTTGCCTTCCGAAAATTTT\n",
       "<SPAN STYLE=\"background-color:#FFEEE0\">pHPSC1_1-M13R_C05.ab1      <SPAN STYLE=\"background-color:#FFFFFF\"></SPAN><SPAN STYLE=\"background-color:#77FFFF\">TCGTAAGATGCAAGAGTTCGAATCTCTTAGCAACCATTATTTTTGCCTTCCGAAAATTTT\n",
       "\n",
       "<SPAN STYLE=\"background-color:#FFEEE0\">CAA_reference              <SPAN STYLE=\"background-color:#FFFFFF\"></SPAN><SPAN STYLE=\"background-color:#77FFFF\">GAAGCTACATATTAGCACTCTTCTTCAGATGTCAGACAACGTGCAGCATCTTTTTTTCCT\n",
       "<SPAN STYLE=\"background-color:#FFEEE0\">pHPSC1_1-M13R_C05.ab1      <SPAN STYLE=\"background-color:#FFFFFF\"></SPAN><SPAN STYLE=\"background-color:#77FFFF\">GAAGCTACATATTAGCACTCTTCTTCAGATGTCAGACAACGTGCAGCATCTTTTTTTCCT\n",
       "\n",
       "<SPAN STYLE=\"background-color:#FFEEE0\">CAA_reference              <SPAN STYLE=\"background-color:#FFFFFF\"></SPAN><SPAN STYLE=\"background-color:#77FFFF\">ACCATTGAATATATATATAGTAATTACGGCAACCGTTTATATAAAAATTCAAAAGATTAA\n",
       "<SPAN STYLE=\"background-color:#FFEEE0\">pHPSC1_1-M13R_C05.ab1      <SPAN STYLE=\"background-color:#FFFFFF\"></SPAN><SPAN STYLE=\"background-color:#77FFFF\">ACCATTGAATATATATATAGTAATTACGGCAACCGTTTATATAAAAATTCAAAAGATTAA\n",
       "\n",
       "<SPAN STYLE=\"background-color:#FFEEE0\">CAA_reference              <SPAN STYLE=\"background-color:#FFFFFF\"></SPAN><SPAN STYLE=\"background-color:#77FFFF\">ATATTTTAATATATTAGTGTCTGGTTTAAAAGTCATACTTCTCTAATCACTACCGTGAAA\n",
       "<SPAN STYLE=\"background-color:#FFEEE0\">pHPSC1_1-M13R_C05.ab1      <SPAN STYLE=\"background-color:#FFFFFF\"></SPAN><SPAN STYLE=\"background-color:#77FFFF\">ATATTTTAATATATTAGTGTCTGGTTTAAAAGTCATACTTCTCTAATCACTACCGTGAAA\n",
       "\n",
       "<SPAN STYLE=\"background-color:#FFEEE0\">CAA_reference              <SPAN STYLE=\"background-color:#FFFFFF\"></SPAN><SPAN STYLE=\"background-color:#77FFFF\">AAAGCAGTTCCATAAGTGTTCATTACTGACTTCTTGGTCTACCACGCTTATCTCAAACTT\n",
       "<SPAN STYLE=\"background-color:#FFEEE0\">pHPSC1_1-M13R_C05.ab1      <SPAN STYLE=\"background-color:#FFFFFF\"></SPAN><SPAN STYLE=\"background-color:#77FFFF\">AAAGCAGTTCCATAAGTGTTCATTACTGACTTCTTGGTCTACCACGCTTATCTCAAACTT\n",
       "\n",
       "<SPAN STYLE=\"background-color:#FFEEE0\">CAA_reference              <SPAN STYLE=\"background-color:#FFFFFF\"></SPAN><SPAN STYLE=\"background-color:#77FFFF\">CGCATCATCGCTTTCCTCATTATCCGTTTCATCTTGGGATCCACTAGTTCTAGAGCGGCC\n",
       "<SPAN STYLE=\"background-color:#FFEEE0\">pHPSC1_1-M13R_C05.ab1      <SPAN STYLE=\"background-color:#FFFFFF\"></SPAN><SPAN STYLE=\"background-color:#77FFFF\">CGCATCATCGCTTTCCTCATTATCCGTTTCATCTTGGGATCCACTAGTTCTAGAGCGGCC\n",
       "\n",
       "<SPAN STYLE=\"background-color:#FFEEE0\">CAA_reference              <SPAN STYLE=\"background-color:#FFFFFF\"></SPAN><SPAN STYLE=\"background-color:#77FFFF\">GCCACCGCGGTGGAGCTCCAGCTTTTGTTCCCTTTAG</SPAN><SPAN STYLE=\"background-color:#FFFFFF\">t</SPAN><SPAN STYLE=\"background-color:#77FFFF\">GA</SPAN><SPAN STYLE=\"background-color:#FFFFFF\">g</SPAN><SPAN STYLE=\"background-color:#77FFFF\">G</SPAN><SPAN STYLE=\"background-color:#FFFFFF\">gtt</SPAN><SPAN STYLE=\"background-color:#77FFFF\">A</SPAN><SPAN STYLE=\"background-color:#FFFFFF\">attgcgcgcttggc\n",
       "<SPAN STYLE=\"background-color:#FFEEE0\">pHPSC1_1-M13R_C05.ab1      <SPAN STYLE=\"background-color:#FFFFFF\"></SPAN><SPAN STYLE=\"background-color:#77FFFF\">GCCACCGCGGTGGAGCTCCAGCTTTTGTTCCCTTTAG</SPAN><SPAN STYLE=\"background-color:#FFFFFF\">n</SPAN><SPAN STYLE=\"background-color:#77FFFF\">GA</SPAN><SPAN STYLE=\"background-color:#FFFFFF\">n</SPAN><SPAN STYLE=\"background-color:#77FFFF\">G</SPAN><SPAN STYLE=\"background-color:#FFFFFF\">nna</SPAN><SPAN STYLE=\"background-color:#77FFFF\">A</SPAN><SPAN STYLE=\"background-color:#FFFFFF\">--------------\n",
       "\n",
       "<SPAN STYLE=\"background-color:#FFEEE0\">CAA_reference              <SPAN STYLE=\"background-color:#FFFFFF\"></SPAN><SPAN STYLE=\"background-color:#FFFFFF\">g</SPAN><SPAN STYLE=\"background-color:#77FFFF\">T</SPAN><SPAN STYLE=\"background-color:#FFFFFF\">aatcatggtcatagc\n",
       "<SPAN STYLE=\"background-color:#FFEEE0\">pHPSC1_1-M13R_C05.ab1      <SPAN STYLE=\"background-color:#FFFFFF\"></SPAN><SPAN STYLE=\"background-color:#FFFFFF\">-</SPAN><SPAN STYLE=\"background-color:#77FFFF\">T</SPAN><SPAN STYLE=\"background-color:#FFFFFF\">gnnnnnnnnnnnnnn\n",
       "</SPAN>\n",
       "</PRE>\n",
       "</BODY>\n",
       "</HTML>\n"
      ],
      "text/plain": [
       "<IPython.core.display.HTML object>"
      ]
     },
     "execution_count": 10,
     "metadata": {},
     "output_type": "execute_result"
    }
   ],
   "source": [
    "# write reference sequences to a single file\n",
    "!/app/emboss/6.6.0/bin/seqret -auto -stdout ../annotations/CAA_reference.seq > ../processeddata/CAA_reference\n",
    "\n",
    "# append sequencing results to the same file\n",
    "sequencing_results = !ls ../processeddata/pHPSC1_1-M13R.seq\n",
    "#sequencing_results = sequencing_results[1:11]\n",
    "\n",
    "# write sequencing results to the file with reference sequence\n",
    "for File in sequencing_results:\n",
    "    !/app/emboss/6.6.0/bin/revseq -auto -stdout $File >> ../processeddata/CAA_reference\n",
    "\n",
    "# align using muscle\n",
    "!/app/muscle/3.8.31/bin/muscle -html -quiet -in ../processeddata/CAA_reference -out ../processeddata/CAA_reference.aligned\n",
    "\n",
    "# display pretty HTML\n",
    "HTML('../processeddata/CAA_reference.aligned')"
   ]
  },
  {
   "cell_type": "markdown",
   "metadata": {},
   "source": [
    "### Checking GAG sequence"
   ]
  },
  {
   "cell_type": "code",
   "execution_count": 16,
   "metadata": {
    "collapsed": false,
    "scrolled": false
   },
   "outputs": [
    {
     "data": {
      "text/html": [
       "<HTML>\n",
       "<BODY BGCOLOR=\"#FFEEE0\">\n",
       "<PRE>\n",
       "<SPAN STYLE=\"background-color:#FFEEE0\">GAG_reference              <SPAN STYLE=\"background-color:#FFFFFF\"></SPAN><SPAN STYLE=\"background-color:#FFFFFF\">------------------------------------------------------------\n",
       "<SPAN STYLE=\"background-color:#FFEEE0\">pHPSC2_1-M13R_D05.ab1      <SPAN STYLE=\"background-color:#FFFFFF\"></SPAN><SPAN STYLE=\"background-color:#FFFFFF\">nngantncnnangtnnaagggngaaaaccnnnnntcnggnngannncnntacntnnncnt\n",
       "\n",
       "<SPAN STYLE=\"background-color:#FFEEE0\">GAG_reference              <SPAN STYLE=\"background-color:#FFFFFF\"></SPAN><SPAN STYLE=\"background-color:#FFFFFF\">------------------------------------------------------------\n",
       "<SPAN STYLE=\"background-color:#FFEEE0\">pHPSC2_1-M13R_D05.ab1      <SPAN STYLE=\"background-color:#FFFFFF\"></SPAN><SPAN STYLE=\"background-color:#FFFFFF\">cncnntancagtttnnggtngngtgccgnaaagcnnnaaatcggaaccnnaanggnagcc\n",
       "\n",
       "<SPAN STYLE=\"background-color:#FFEEE0\">GAG_reference              <SPAN STYLE=\"background-color:#FFFFFF\"></SPAN><SPAN STYLE=\"background-color:#FFFFFF\">------------------------------------------------------------\n",
       "<SPAN STYLE=\"background-color:#FFEEE0\">pHPSC2_1-M13R_D05.ab1      <SPAN STYLE=\"background-color:#FFFFFF\"></SPAN><SPAN STYLE=\"background-color:#FFFFFF\">cccgatttagagcttgacggggaaagccggcgaacgtggcgagaaaggaagggaagaaag\n",
       "\n",
       "<SPAN STYLE=\"background-color:#FFEEE0\">GAG_reference              <SPAN STYLE=\"background-color:#FFFFFF\"></SPAN><SPAN STYLE=\"background-color:#FFFFFF\">------------------------------------------------------------\n",
       "<SPAN STYLE=\"background-color:#FFEEE0\">pHPSC2_1-M13R_D05.ab1      <SPAN STYLE=\"background-color:#FFFFFF\"></SPAN><SPAN STYLE=\"background-color:#FFFFFF\">cgaaaggagcgggcgctagggcgctggcaagtgtagcggtcacgctgcgcgtaaccacca\n",
       "\n",
       "<SPAN STYLE=\"background-color:#FFEEE0\">GAG_reference              <SPAN STYLE=\"background-color:#FFFFFF\"></SPAN><SPAN STYLE=\"background-color:#FFFFFF\">------------------------------------------------------------\n",
       "<SPAN STYLE=\"background-color:#FFEEE0\">pHPSC2_1-M13R_D05.ab1      <SPAN STYLE=\"background-color:#FFFFFF\"></SPAN><SPAN STYLE=\"background-color:#FFFFFF\">cacccgccgcgcttaatgcgccgctacagggcgcgtccattcgccattcaggctgcgcaa\n",
       "\n",
       "<SPAN STYLE=\"background-color:#FFEEE0\">GAG_reference              <SPAN STYLE=\"background-color:#FFFFFF\"></SPAN><SPAN STYLE=\"background-color:#FFFFFF\">------------------------------------------------------------\n",
       "<SPAN STYLE=\"background-color:#FFEEE0\">pHPSC2_1-M13R_D05.ab1      <SPAN STYLE=\"background-color:#FFFFFF\"></SPAN><SPAN STYLE=\"background-color:#FFFFFF\">ctgttgggaagggcgatcggtgcgggcctcttcgctattacgccagctggcgaaaggggg\n",
       "\n",
       "<SPAN STYLE=\"background-color:#FFEEE0\">GAG_reference              <SPAN STYLE=\"background-color:#FFFFFF\"></SPAN><SPAN STYLE=\"background-color:#FFFFFF\">------------------------------------------------------------\n",
       "<SPAN STYLE=\"background-color:#FFEEE0\">pHPSC2_1-M13R_D05.ab1      <SPAN STYLE=\"background-color:#FFFFFF\"></SPAN><SPAN STYLE=\"background-color:#FFFFFF\">atgtgctgcaaggcgattaagttgggtaacgccagggttttcccagtcacgacgttgtaa\n",
       "\n",
       "<SPAN STYLE=\"background-color:#FFEEE0\">GAG_reference              <SPAN STYLE=\"background-color:#FFFFFF\"></SPAN><SPAN STYLE=\"background-color:#FFFFFF\">------------------------------------------------------------\n",
       "<SPAN STYLE=\"background-color:#FFEEE0\">pHPSC2_1-M13R_D05.ab1      <SPAN STYLE=\"background-color:#FFFFFF\"></SPAN><SPAN STYLE=\"background-color:#FFFFFF\">aacgacggccagtgagcgcgcgtaatacgactcactatagggcgaattgggtaccgggcc\n",
       "\n",
       "<SPAN STYLE=\"background-color:#FFEEE0\">GAG_reference              <SPAN STYLE=\"background-color:#FFFFFF\"></SPAN><SPAN STYLE=\"background-color:#FFFFFF\">-------------------------------</SPAN><SPAN STYLE=\"background-color:#77FFFF\">TCCTTCAATCTCATTTTTCGTGTTTTATT\n",
       "<SPAN STYLE=\"background-color:#FFEEE0\">pHPSC2_1-M13R_D05.ab1      <SPAN STYLE=\"background-color:#FFFFFF\"></SPAN><SPAN STYLE=\"background-color:#FFFFFF\">ccccctcgaggtcgacggtatcgataagctt</SPAN><SPAN STYLE=\"background-color:#77FFFF\">TCCTTCAATCTCATTTTTCGTGTTTTATT\n",
       "\n",
       "<SPAN STYLE=\"background-color:#FFEEE0\">GAG_reference              <SPAN STYLE=\"background-color:#FFFFFF\"></SPAN><SPAN STYLE=\"background-color:#77FFFF\">CCTTTCAAGAGATGGTTCGGACACACCTCATTTATCAATAGAGATGCCTCAGATATGAAA\n",
       "<SPAN STYLE=\"background-color:#FFEEE0\">pHPSC2_1-M13R_D05.ab1      <SPAN STYLE=\"background-color:#FFFFFF\"></SPAN><SPAN STYLE=\"background-color:#77FFFF\">CCTTTCAAGAGATGGTTCGGACACACCTCATTTATCAATAGAGATGCCTCAGATATGAAA\n",
       "\n",
       "<SPAN STYLE=\"background-color:#FFEEE0\">GAG_reference              <SPAN STYLE=\"background-color:#FFFFFF\"></SPAN><SPAN STYLE=\"background-color:#77FFFF\">ATACTTGTGGATTTTGTAAAGATTCAACCTGTATGGTCTGCGTGGATTGCCACTTATAGG\n",
       "<SPAN STYLE=\"background-color:#FFEEE0\">pHPSC2_1-M13R_D05.ab1      <SPAN STYLE=\"background-color:#FFFFFF\"></SPAN><SPAN STYLE=\"background-color:#77FFFF\">ATACTTGTGGATTTTGTAAAGATTCAACCTGTATGGTCTGCGTGGATTGCCACTTATAGG\n",
       "\n",
       "<SPAN STYLE=\"background-color:#FFEEE0\">GAG_reference              <SPAN STYLE=\"background-color:#FFFFFF\"></SPAN><SPAN STYLE=\"background-color:#77FFFF\">GCTTTTCAAATTAGTATTTTAAAGGAGTTAGATCGGTTTCAAAAGGTCATGCTCCGGAGT\n",
       "<SPAN STYLE=\"background-color:#FFEEE0\">pHPSC2_1-M13R_D05.ab1      <SPAN STYLE=\"background-color:#FFFFFF\"></SPAN><SPAN STYLE=\"background-color:#77FFFF\">GCTTTTCAAATTAGTATTTTAAAGGAGTTAGATCGGTTTCAAAAGGTCATGCTCCGGAGT\n",
       "\n",
       "<SPAN STYLE=\"background-color:#FFEEE0\">GAG_reference              <SPAN STYLE=\"background-color:#FFFFFF\"></SPAN><SPAN STYLE=\"background-color:#77FFFF\">AATTGACTTGATTTTGCAAAGCTTCACTTAAATGGCGTATCTTCCTTTTATAAATTGCGT\n",
       "<SPAN STYLE=\"background-color:#FFEEE0\">pHPSC2_1-M13R_D05.ab1      <SPAN STYLE=\"background-color:#FFFFFF\"></SPAN><SPAN STYLE=\"background-color:#77FFFF\">AATTGACTTGATTTTGCAAAGCTTCACTTAAATGGCGTATCTTCCTTTTATAAATTGCGT\n",
       "\n",
       "<SPAN STYLE=\"background-color:#FFEEE0\">GAG_reference              <SPAN STYLE=\"background-color:#FFFFFF\"></SPAN><SPAN STYLE=\"background-color:#77FFFF\">TTGCTTTATTCCCTTACCCAACAGATGAATTGGTACTCTGGCCGAGTGGTCTAAGGCGTC\n",
       "<SPAN STYLE=\"background-color:#FFEEE0\">pHPSC2_1-M13R_D05.ab1      <SPAN STYLE=\"background-color:#FFFFFF\"></SPAN><SPAN STYLE=\"background-color:#77FFFF\">TTGCTTTATTCCCTTACCCAACAGATGAATTGGTACTCTGGCCGAGTGGTCTAAGGCGTC\n",
       "\n",
       "<SPAN STYLE=\"background-color:#FFEEE0\">GAG_reference              <SPAN STYLE=\"background-color:#FFFFFF\"></SPAN><SPAN STYLE=\"background-color:#77FFFF\">AGGTCGAGGTCCTGATCTCTTCGGAGGCGCGGGTTCAAACCCCGCGGGTATCAATATTTT\n",
       "<SPAN STYLE=\"background-color:#FFEEE0\">pHPSC2_1-M13R_D05.ab1      <SPAN STYLE=\"background-color:#FFFFFF\"></SPAN><SPAN STYLE=\"background-color:#77FFFF\">AGGTCGAGGTCCTGATCTCTTCGGAGGCGCGGGTTCAAACCCCGCGGGTATCAATATTTT\n",
       "\n",
       "<SPAN STYLE=\"background-color:#FFEEE0\">GAG_reference              <SPAN STYLE=\"background-color:#FFFFFF\"></SPAN><SPAN STYLE=\"background-color:#77FFFF\">TTTGAATCTACGCACTTCAATAAGAATTAGGCTGTTAGGATAGCATTTTTTTTCTATGTA\n",
       "<SPAN STYLE=\"background-color:#FFEEE0\">pHPSC2_1-M13R_D05.ab1      <SPAN STYLE=\"background-color:#FFFFFF\"></SPAN><SPAN STYLE=\"background-color:#77FFFF\">TTTGAATCTACGCACTTCAATAAGAATTAGGCTGTTAGGATAGCATTTTTTTTCTATGTA\n",
       "\n",
       "<SPAN STYLE=\"background-color:#FFEEE0\">GAG_reference              <SPAN STYLE=\"background-color:#FFFFFF\"></SPAN><SPAN STYLE=\"background-color:#77FFFF\">CCAAAAGTATTCATACGTGGCTCCTTGTTACCCCACAAAACTTTTTTAGACTTGAGTGAG\n",
       "<SPAN STYLE=\"background-color:#FFEEE0\">pHPSC2_1-M13R_D05.ab1      <SPAN STYLE=\"background-color:#FFFFFF\"></SPAN><SPAN STYLE=\"background-color:#77FFFF\">CCAAAAGTATTCATACGTGGCTCCTTGTTACCCCACAAAACTTTTTTAGACTTGAGTGAG\n",
       "\n",
       "<SPAN STYLE=\"background-color:#FFEEE0\">GAG_reference              <SPAN STYLE=\"background-color:#FFFFFF\"></SPAN><SPAN STYLE=\"background-color:#77FFFF\">CTGAAAGACACCTAAAAGGAAGGACATTCCATTGATGGCTATT</SPAN><SPAN STYLE=\"background-color:#FFFFFF\">-----------------\n",
       "<SPAN STYLE=\"background-color:#FFEEE0\">pHPSC2_1-M13R_D05.ab1      <SPAN STYLE=\"background-color:#FFFFFF\"></SPAN><SPAN STYLE=\"background-color:#77FFFF\">CTGAAAGACACCTAAAAGGAAGGACATTCCATTGATGGCTATT</SPAN><SPAN STYLE=\"background-color:#FFFFFF\">ggatccactagttctag\n",
       "\n",
       "<SPAN STYLE=\"background-color:#FFEEE0\">GAG_reference              <SPAN STYLE=\"background-color:#FFFFFF\"></SPAN><SPAN STYLE=\"background-color:#FFFFFF\">------------------------------------------------------------\n",
       "<SPAN STYLE=\"background-color:#FFEEE0\">pHPSC2_1-M13R_D05.ab1      <SPAN STYLE=\"background-color:#FFFFFF\"></SPAN><SPAN STYLE=\"background-color:#FFFFFF\">agcggccgccaccgcggtggagctccagcttttgttccctttagtgannnnaannnnnnn\n",
       "\n",
       "<SPAN STYLE=\"background-color:#FFEEE0\">GAG_reference              <SPAN STYLE=\"background-color:#FFFFFF\"></SPAN><SPAN STYLE=\"background-color:#FFFFFF\">--------\n",
       "<SPAN STYLE=\"background-color:#FFEEE0\">pHPSC2_1-M13R_D05.ab1      <SPAN STYLE=\"background-color:#FFFFFF\"></SPAN><SPAN STYLE=\"background-color:#FFFFFF\">nnnnnnnn\n",
       "</SPAN>\n",
       "</PRE>\n",
       "</BODY>\n",
       "</HTML>\n"
      ],
      "text/plain": [
       "<IPython.core.display.HTML object>"
      ]
     },
     "execution_count": 16,
     "metadata": {},
     "output_type": "execute_result"
    }
   ],
   "source": [
    "# write reference sequences to a single file\n",
    "!/app/emboss/6.6.0/bin/seqret -auto -stdout ../annotations/GAG_reference.seq > ../processeddata/GAG_reference\n",
    "\n",
    "# append sequencing results to the same file\n",
    "sequencing_results = !ls ../processeddata/pHPSC2_1-M13R.seq\n",
    "#sequencing_results = sequencing_results[1:11]\n",
    "\n",
    "# write sequencing results to the file with reference sequence\n",
    "for File in sequencing_results:\n",
    "    !/app/emboss/6.6.0/bin/revseq -auto -stdout $File >> ../processeddata/GAG_reference\n",
    "\n",
    "# align using muscle\n",
    "!/app/muscle/3.8.31/bin/muscle -html -quiet -in ../processeddata/GAG_reference -out ../processeddata/GAG_reference.aligned\n",
    "\n",
    "# display pretty HTML\n",
    "HTML('../processeddata/GAG_reference.aligned')"
   ]
  },
  {
   "cell_type": "markdown",
   "metadata": {},
   "source": [
    "### Checking TAG sequence"
   ]
  },
  {
   "cell_type": "code",
   "execution_count": 18,
   "metadata": {
    "collapsed": false
   },
   "outputs": [
    {
     "data": {
      "text/html": [
       "<HTML>\n",
       "<BODY BGCOLOR=\"#FFEEE0\">\n",
       "<PRE>\n",
       "<SPAN STYLE=\"background-color:#FFEEE0\">TAG_reference              <SPAN STYLE=\"background-color:#FFFFFF\"></SPAN><SPAN STYLE=\"background-color:#FFFFFF\">------------------------------------------------------------\n",
       "<SPAN STYLE=\"background-color:#FFEEE0\">pHPSC3_1-M13R_E05.ab1      <SPAN STYLE=\"background-color:#FFFFFF\"></SPAN><SPAN STYLE=\"background-color:#FFFFFF\">nnnnngggtnganggnncgtaagnnnnaatnnnnncntnnggnnnccccgnnttannnnt\n",
       "\n",
       "<SPAN STYLE=\"background-color:#FFEEE0\">TAG_reference              <SPAN STYLE=\"background-color:#FFFFFF\"></SPAN><SPAN STYLE=\"background-color:#FFFFFF\">------------------------------------------------------------\n",
       "<SPAN STYLE=\"background-color:#FFEEE0\">pHPSC3_1-M13R_E05.ab1      <SPAN STYLE=\"background-color:#FFFFFF\"></SPAN><SPAN STYLE=\"background-color:#FFFFFF\">nnnngnnnannnnnnnnngncgagnannnngnannaaagcgaangagcnggcgctnggcg\n",
       "\n",
       "<SPAN STYLE=\"background-color:#FFEEE0\">TAG_reference              <SPAN STYLE=\"background-color:#FFFFFF\"></SPAN><SPAN STYLE=\"background-color:#FFFFFF\">------------------------------------------------------------\n",
       "<SPAN STYLE=\"background-color:#FFEEE0\">pHPSC3_1-M13R_E05.ab1      <SPAN STYLE=\"background-color:#FFFFFF\"></SPAN><SPAN STYLE=\"background-color:#FFFFFF\">cngnnnngtanngtcncgctncgngnnnnnccacnccnncngcgctnaatgcgccgntnc\n",
       "\n",
       "<SPAN STYLE=\"background-color:#FFEEE0\">TAG_reference              <SPAN STYLE=\"background-color:#FFFFFF\"></SPAN><SPAN STYLE=\"background-color:#FFFFFF\">------------------------------------------------------------\n",
       "<SPAN STYLE=\"background-color:#FFEEE0\">pHPSC3_1-M13R_E05.ab1      <SPAN STYLE=\"background-color:#FFFFFF\"></SPAN><SPAN STYLE=\"background-color:#FFFFFF\">agggngcgnccattcgccattcaggctgcgcaactgttgggaagggcgatcggtgcgggc\n",
       "\n",
       "<SPAN STYLE=\"background-color:#FFEEE0\">TAG_reference              <SPAN STYLE=\"background-color:#FFFFFF\"></SPAN><SPAN STYLE=\"background-color:#FFFFFF\">------------------------------------------------------------\n",
       "<SPAN STYLE=\"background-color:#FFEEE0\">pHPSC3_1-M13R_E05.ab1      <SPAN STYLE=\"background-color:#FFFFFF\"></SPAN><SPAN STYLE=\"background-color:#FFFFFF\">ctcttcgctattacgccagctggcgaaagggggatgtgctgcaaggcgattaagttgggt\n",
       "\n",
       "<SPAN STYLE=\"background-color:#FFEEE0\">TAG_reference              <SPAN STYLE=\"background-color:#FFFFFF\"></SPAN><SPAN STYLE=\"background-color:#FFFFFF\">------------------------------------------------------------\n",
       "<SPAN STYLE=\"background-color:#FFEEE0\">pHPSC3_1-M13R_E05.ab1      <SPAN STYLE=\"background-color:#FFFFFF\"></SPAN><SPAN STYLE=\"background-color:#FFFFFF\">aacnccagggttttcccagtcacgacgttgtaaaacgacggccagtgagcgcgcgtaata\n",
       "\n",
       "<SPAN STYLE=\"background-color:#FFEEE0\">TAG_reference              <SPAN STYLE=\"background-color:#FFFFFF\"></SPAN><SPAN STYLE=\"background-color:#FFFFFF\">------------------------------------------------------------\n",
       "<SPAN STYLE=\"background-color:#FFEEE0\">pHPSC3_1-M13R_E05.ab1      <SPAN STYLE=\"background-color:#FFFFFF\"></SPAN><SPAN STYLE=\"background-color:#FFFFFF\">cgactcactatagggcgaattgggtaccgggccccccctcgaggtcgacggtatcgataa\n",
       "\n",
       "<SPAN STYLE=\"background-color:#FFEEE0\">TAG_reference              <SPAN STYLE=\"background-color:#FFFFFF\"></SPAN><SPAN STYLE=\"background-color:#FFFFFF\">----</SPAN><SPAN STYLE=\"background-color:#77FFFF\">GCCTTTCCTTTACAGCTCCAAGATATTATATATATTTTTGACAAGGTAATCAATTG\n",
       "<SPAN STYLE=\"background-color:#FFEEE0\">pHPSC3_1-M13R_E05.ab1      <SPAN STYLE=\"background-color:#FFFFFF\"></SPAN><SPAN STYLE=\"background-color:#FFFFFF\">gctt</SPAN><SPAN STYLE=\"background-color:#77FFFF\">GCCTTTCCTTTACAGCTCCAAGATATTATATATATTTTTGACAAGGTAATCAATTG\n",
       "\n",
       "<SPAN STYLE=\"background-color:#FFEEE0\">TAG_reference              <SPAN STYLE=\"background-color:#FFFFFF\"></SPAN><SPAN STYLE=\"background-color:#77FFFF\">CCCCACAAATCTTCCATATAAAAACCTATATATGCTATTAACCGAATGGCAATTCCCTCT\n",
       "<SPAN STYLE=\"background-color:#FFEEE0\">pHPSC3_1-M13R_E05.ab1      <SPAN STYLE=\"background-color:#FFFFFF\"></SPAN><SPAN STYLE=\"background-color:#77FFFF\">CCCCACAAATCTTCCATATAAAAACCTATATATGCTATTAACCGAATGGCAATTCCCTCT\n",
       "\n",
       "<SPAN STYLE=\"background-color:#FFEEE0\">TAG_reference              <SPAN STYLE=\"background-color:#FFFFFF\"></SPAN><SPAN STYLE=\"background-color:#77FFFF\">ATCTCATATCTCACCTCTACAGTAATCCTTCCGTGGTATCTGGTCTATAGAAATGGGTAC\n",
       "<SPAN STYLE=\"background-color:#FFEEE0\">pHPSC3_1-M13R_E05.ab1      <SPAN STYLE=\"background-color:#FFFFFF\"></SPAN><SPAN STYLE=\"background-color:#77FFFF\">ATCTCATATCTCACCTCTACAGTAATCCTTCCGTGGTATCTGGTCTATAGAAATGGGTAC\n",
       "\n",
       "<SPAN STYLE=\"background-color:#FFEEE0\">TAG_reference              <SPAN STYLE=\"background-color:#FFFFFF\"></SPAN><SPAN STYLE=\"background-color:#77FFFF\">TGTTTCATTTAAACGTGTTATCACTTGATCCAATGGTTACCATCTGACTTTGGCATCAAT\n",
       "<SPAN STYLE=\"background-color:#FFEEE0\">pHPSC3_1-M13R_E05.ab1      <SPAN STYLE=\"background-color:#FFFFFF\"></SPAN><SPAN STYLE=\"background-color:#77FFFF\">TGTTTCATTTAAACGTGTTATCACTTGATCCAATGGTTACCATCTGACTTTGGCATCAAT\n",
       "\n",
       "<SPAN STYLE=\"background-color:#FFEEE0\">TAG_reference              <SPAN STYLE=\"background-color:#FFFFFF\"></SPAN><SPAN STYLE=\"background-color:#77FFFF\">CCCTTCTTAAAAAGTAACCAATCAATGATATGCGATTGTTTATGAAGTCCATTCAACAAA\n",
       "<SPAN STYLE=\"background-color:#FFEEE0\">pHPSC3_1-M13R_E05.ab1      <SPAN STYLE=\"background-color:#FFFFFF\"></SPAN><SPAN STYLE=\"background-color:#77FFFF\">CCCTTCTTAAAAAGTAACCAATCAATGATATGCGATTGTTTATGAAGTCCATTCAACAAA\n",
       "\n",
       "<SPAN STYLE=\"background-color:#FFEEE0\">TAG_reference              <SPAN STYLE=\"background-color:#FFFFFF\"></SPAN><SPAN STYLE=\"background-color:#77FFFF\">CAATGGGAGTTTGGCCGAGTGGTTTAAGGCGTCAGATTTAGGTGGATTTAACCTCTAAAA\n",
       "<SPAN STYLE=\"background-color:#FFEEE0\">pHPSC3_1-M13R_E05.ab1      <SPAN STYLE=\"background-color:#FFFFFF\"></SPAN><SPAN STYLE=\"background-color:#77FFFF\">CAATGGGAGTTTGGCCGAGTGGTTTAAGGCGTCAGATTTAGGTGGATTTAACCTCTAAAA\n",
       "\n",
       "<SPAN STYLE=\"background-color:#FFEEE0\">TAG_reference              <SPAN STYLE=\"background-color:#FFFFFF\"></SPAN><SPAN STYLE=\"background-color:#77FFFF\">TCTCTGATATCTTCGGATGCAAGGGTTCGAATCCCTTAGCTCTCATTATTTTTTGTATTT\n",
       "<SPAN STYLE=\"background-color:#FFEEE0\">pHPSC3_1-M13R_E05.ab1      <SPAN STYLE=\"background-color:#FFFFFF\"></SPAN><SPAN STYLE=\"background-color:#77FFFF\">TCTCTGATATCTTCGGATGCAAGGGTTCGAATCCCTTAGCTCTCATTATTTTTTGTATTT\n",
       "\n",
       "<SPAN STYLE=\"background-color:#FFEEE0\">TAG_reference              <SPAN STYLE=\"background-color:#FFFFFF\"></SPAN><SPAN STYLE=\"background-color:#77FFFF\">TTTTTTTTCACTTCCCATCTTTCCAAGAATCTTAGGAGAGGTGCCGCAGTACTTTTTTGG\n",
       "<SPAN STYLE=\"background-color:#FFEEE0\">pHPSC3_1-M13R_E05.ab1      <SPAN STYLE=\"background-color:#FFFFFF\"></SPAN><SPAN STYLE=\"background-color:#77FFFF\">TTTTTTTTCACTTCCCATCTTTCCAAGAATCTTAGGAGAGGTGCCGCAGTACTTTTTTGG\n",
       "\n",
       "<SPAN STYLE=\"background-color:#FFEEE0\">TAG_reference              <SPAN STYLE=\"background-color:#FFFFFF\"></SPAN><SPAN STYLE=\"background-color:#77FFFF\">ACTGAGCAAGAAGTATCGCAAAGCATGGAAAAGTAAGAAGGGTATAGCAAAAGTCTTTTC\n",
       "<SPAN STYLE=\"background-color:#FFEEE0\">pHPSC3_1-M13R_E05.ab1      <SPAN STYLE=\"background-color:#FFFFFF\"></SPAN><SPAN STYLE=\"background-color:#77FFFF\">ACTGAGCAAGAAGTATCGCAAAGCATGGAAAAGTAAGAAGGGTATAGCAAAAGTCTTTTC\n",
       "\n",
       "<SPAN STYLE=\"background-color:#FFEEE0\">TAG_reference              <SPAN STYLE=\"background-color:#FFFFFF\"></SPAN><SPAN STYLE=\"background-color:#77FFFF\">ACAATAAGAGGATATTTTGCAGGCAAATTTCTGAAGACCACATAATATCGTCTTCTTGGC\n",
       "<SPAN STYLE=\"background-color:#FFEEE0\">pHPSC3_1-M13R_E05.ab1      <SPAN STYLE=\"background-color:#FFFFFF\"></SPAN><SPAN STYLE=\"background-color:#77FFFF\">ACAATAAGAGGATATTTTGCAGGCAAATTTCTGAAGACCACATAATATCGTCTTCTTGGC\n",
       "\n",
       "<SPAN STYLE=\"background-color:#FFEEE0\">TAG_reference              <SPAN STYLE=\"background-color:#FFFFFF\"></SPAN><SPAN STYLE=\"background-color:#77FFFF\">GCAACTAAGACGCAGAGAAATGCTTGTTTTCAAAAGGGGTATTCACGTAGTACCTAAACT\n",
       "<SPAN STYLE=\"background-color:#FFEEE0\">pHPSC3_1-M13R_E05.ab1      <SPAN STYLE=\"background-color:#FFFFFF\"></SPAN><SPAN STYLE=\"background-color:#77FFFF\">GCAACTAAGACGCAGAGAAATGCTTGTTTTCAAAAGGGGTATTCACGTAGTACCTAAACT\n",
       "\n",
       "<SPAN STYLE=\"background-color:#FFEEE0\">TAG_reference              <SPAN STYLE=\"background-color:#FFFFFF\"></SPAN><SPAN STYLE=\"background-color:#77FFFF\">ACCAAATTCTAAGGCCCTACTGCAAAATGGAGTGCCTAATATACT</SPAN><SPAN STYLE=\"background-color:#FFFFFF\">---------------\n",
       "<SPAN STYLE=\"background-color:#FFEEE0\">pHPSC3_1-M13R_E05.ab1      <SPAN STYLE=\"background-color:#FFFFFF\"></SPAN><SPAN STYLE=\"background-color:#77FFFF\">ACCAAATTCTAAGGCCCTACTGCAAAATGGAGTGCCTAATATACT</SPAN><SPAN STYLE=\"background-color:#FFFFFF\">ggatccactagttct\n",
       "\n",
       "<SPAN STYLE=\"background-color:#FFEEE0\">TAG_reference              <SPAN STYLE=\"background-color:#FFFFFF\"></SPAN><SPAN STYLE=\"background-color:#FFFFFF\">------------------------------------------------------------\n",
       "<SPAN STYLE=\"background-color:#FFEEE0\">pHPSC3_1-M13R_E05.ab1      <SPAN STYLE=\"background-color:#FFFFFF\"></SPAN><SPAN STYLE=\"background-color:#FFFFFF\">agagcggccgccaccgcggtggagctccagcttttgttccctttagtgagggnnannnnn\n",
       "\n",
       "<SPAN STYLE=\"background-color:#FFEEE0\">TAG_reference              <SPAN STYLE=\"background-color:#FFFFFF\"></SPAN><SPAN STYLE=\"background-color:#FFFFFF\">-----------\n",
       "<SPAN STYLE=\"background-color:#FFEEE0\">pHPSC3_1-M13R_E05.ab1      <SPAN STYLE=\"background-color:#FFFFFF\"></SPAN><SPAN STYLE=\"background-color:#FFFFFF\">nnnnnnnnnnn\n",
       "</SPAN>\n",
       "</PRE>\n",
       "</BODY>\n",
       "</HTML>\n"
      ],
      "text/plain": [
       "<IPython.core.display.HTML object>"
      ]
     },
     "execution_count": 18,
     "metadata": {},
     "output_type": "execute_result"
    }
   ],
   "source": [
    "# write reference sequences to a single file\n",
    "!/app/emboss/6.6.0/bin/seqret -auto -stdout ../annotations/TAG_reference.seq > ../processeddata/TAG_reference\n",
    "\n",
    "# append sequencing results to the same file\n",
    "sequencing_results = !ls ../processeddata/pHPSC3_1-M13R.seq\n",
    "#sequencing_results = sequencing_results[1:11]\n",
    "\n",
    "# write sequencing results to the file with reference sequence\n",
    "for File in sequencing_results:\n",
    "    !/app/emboss/6.6.0/bin/revseq -auto -stdout $File >> ../processeddata/TAG_reference\n",
    "\n",
    "# align using muscle\n",
    "!/app/muscle/3.8.31/bin/muscle -html -quiet -in ../processeddata/TAG_reference -out ../processeddata/TAG_reference.aligned\n",
    "\n",
    "# display pretty HTML\n",
    "HTML('../processeddata/TAG_reference.aligned')"
   ]
  },
  {
   "cell_type": "code",
   "execution_count": null,
   "metadata": {
    "collapsed": true
   },
   "outputs": [],
   "source": []
  }
 ],
 "metadata": {
  "kernelspec": {
   "display_name": "Python 3",
   "language": "python",
   "name": "python3"
  },
  "language_info": {
   "codemirror_mode": {
    "name": "ipython",
    "version": 3
   },
   "file_extension": ".py",
   "mimetype": "text/x-python",
   "name": "python",
   "nbconvert_exporter": "python",
   "pygments_lexer": "ipython3",
   "version": "3.4.0"
  }
 },
 "nbformat": 4,
 "nbformat_minor": 0
}
